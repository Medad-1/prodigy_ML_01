{
 "cells": [
  {
   "cell_type": "markdown",
   "id": "c292a1eb-fdd0-4417-9ed6-08e8e2865d27",
   "metadata": {},
   "source": [
    "### Importing Libaries"
   ]
  },
  {
   "cell_type": "code",
   "execution_count": 2,
   "id": "5ba512fc-0866-494d-98d0-c1c73bae906f",
   "metadata": {
    "tags": []
   },
   "outputs": [],
   "source": [
    "import numpy as np\n",
    "import matplotlib.pyplot as plt\n",
    "import pandas as pd\n",
    "from sklearn.linear_model import LinearRegression\n",
    "from sklearn.tree import DecisionTreeRegressor\n",
    "from sklearn.model_selection import train_test_split\n",
    "from sklearn.metrics import mean_squared_error, r2_score"
   ]
  },
  {
   "cell_type": "markdown",
   "id": "f5d7bd5a-3eab-49cc-accc-5bb29b396593",
   "metadata": {},
   "source": [
    "### Loading the datasets"
   ]
  },
  {
   "cell_type": "code",
   "execution_count": 3,
   "id": "7daa5ce7-9cd6-4da4-bc8a-fd37a9cc42f4",
   "metadata": {
    "tags": []
   },
   "outputs": [
    {
     "data": {
      "text/html": [
       "<div>\n",
       "<style scoped>\n",
       "    .dataframe tbody tr th:only-of-type {\n",
       "        vertical-align: middle;\n",
       "    }\n",
       "\n",
       "    .dataframe tbody tr th {\n",
       "        vertical-align: top;\n",
       "    }\n",
       "\n",
       "    .dataframe thead th {\n",
       "        text-align: right;\n",
       "    }\n",
       "</style>\n",
       "<table border=\"1\" class=\"dataframe\">\n",
       "  <thead>\n",
       "    <tr style=\"text-align: right;\">\n",
       "      <th></th>\n",
       "      <th>Id</th>\n",
       "      <th>MSSubClass</th>\n",
       "      <th>MSZoning</th>\n",
       "      <th>LotFrontage</th>\n",
       "      <th>LotArea</th>\n",
       "      <th>Street</th>\n",
       "      <th>Alley</th>\n",
       "      <th>LotShape</th>\n",
       "      <th>LandContour</th>\n",
       "      <th>Utilities</th>\n",
       "      <th>...</th>\n",
       "      <th>PoolArea</th>\n",
       "      <th>PoolQC</th>\n",
       "      <th>Fence</th>\n",
       "      <th>MiscFeature</th>\n",
       "      <th>MiscVal</th>\n",
       "      <th>MoSold</th>\n",
       "      <th>YrSold</th>\n",
       "      <th>SaleType</th>\n",
       "      <th>SaleCondition</th>\n",
       "      <th>SalePrice</th>\n",
       "    </tr>\n",
       "  </thead>\n",
       "  <tbody>\n",
       "    <tr>\n",
       "      <th>0</th>\n",
       "      <td>1</td>\n",
       "      <td>60</td>\n",
       "      <td>RL</td>\n",
       "      <td>65.0</td>\n",
       "      <td>8450</td>\n",
       "      <td>Pave</td>\n",
       "      <td>NaN</td>\n",
       "      <td>Reg</td>\n",
       "      <td>Lvl</td>\n",
       "      <td>AllPub</td>\n",
       "      <td>...</td>\n",
       "      <td>0</td>\n",
       "      <td>NaN</td>\n",
       "      <td>NaN</td>\n",
       "      <td>NaN</td>\n",
       "      <td>0</td>\n",
       "      <td>2</td>\n",
       "      <td>2008</td>\n",
       "      <td>WD</td>\n",
       "      <td>Normal</td>\n",
       "      <td>208500</td>\n",
       "    </tr>\n",
       "    <tr>\n",
       "      <th>1</th>\n",
       "      <td>2</td>\n",
       "      <td>20</td>\n",
       "      <td>RL</td>\n",
       "      <td>80.0</td>\n",
       "      <td>9600</td>\n",
       "      <td>Pave</td>\n",
       "      <td>NaN</td>\n",
       "      <td>Reg</td>\n",
       "      <td>Lvl</td>\n",
       "      <td>AllPub</td>\n",
       "      <td>...</td>\n",
       "      <td>0</td>\n",
       "      <td>NaN</td>\n",
       "      <td>NaN</td>\n",
       "      <td>NaN</td>\n",
       "      <td>0</td>\n",
       "      <td>5</td>\n",
       "      <td>2007</td>\n",
       "      <td>WD</td>\n",
       "      <td>Normal</td>\n",
       "      <td>181500</td>\n",
       "    </tr>\n",
       "    <tr>\n",
       "      <th>2</th>\n",
       "      <td>3</td>\n",
       "      <td>60</td>\n",
       "      <td>RL</td>\n",
       "      <td>68.0</td>\n",
       "      <td>11250</td>\n",
       "      <td>Pave</td>\n",
       "      <td>NaN</td>\n",
       "      <td>IR1</td>\n",
       "      <td>Lvl</td>\n",
       "      <td>AllPub</td>\n",
       "      <td>...</td>\n",
       "      <td>0</td>\n",
       "      <td>NaN</td>\n",
       "      <td>NaN</td>\n",
       "      <td>NaN</td>\n",
       "      <td>0</td>\n",
       "      <td>9</td>\n",
       "      <td>2008</td>\n",
       "      <td>WD</td>\n",
       "      <td>Normal</td>\n",
       "      <td>223500</td>\n",
       "    </tr>\n",
       "    <tr>\n",
       "      <th>3</th>\n",
       "      <td>4</td>\n",
       "      <td>70</td>\n",
       "      <td>RL</td>\n",
       "      <td>60.0</td>\n",
       "      <td>9550</td>\n",
       "      <td>Pave</td>\n",
       "      <td>NaN</td>\n",
       "      <td>IR1</td>\n",
       "      <td>Lvl</td>\n",
       "      <td>AllPub</td>\n",
       "      <td>...</td>\n",
       "      <td>0</td>\n",
       "      <td>NaN</td>\n",
       "      <td>NaN</td>\n",
       "      <td>NaN</td>\n",
       "      <td>0</td>\n",
       "      <td>2</td>\n",
       "      <td>2006</td>\n",
       "      <td>WD</td>\n",
       "      <td>Abnorml</td>\n",
       "      <td>140000</td>\n",
       "    </tr>\n",
       "    <tr>\n",
       "      <th>4</th>\n",
       "      <td>5</td>\n",
       "      <td>60</td>\n",
       "      <td>RL</td>\n",
       "      <td>84.0</td>\n",
       "      <td>14260</td>\n",
       "      <td>Pave</td>\n",
       "      <td>NaN</td>\n",
       "      <td>IR1</td>\n",
       "      <td>Lvl</td>\n",
       "      <td>AllPub</td>\n",
       "      <td>...</td>\n",
       "      <td>0</td>\n",
       "      <td>NaN</td>\n",
       "      <td>NaN</td>\n",
       "      <td>NaN</td>\n",
       "      <td>0</td>\n",
       "      <td>12</td>\n",
       "      <td>2008</td>\n",
       "      <td>WD</td>\n",
       "      <td>Normal</td>\n",
       "      <td>250000</td>\n",
       "    </tr>\n",
       "  </tbody>\n",
       "</table>\n",
       "<p>5 rows × 81 columns</p>\n",
       "</div>"
      ],
      "text/plain": [
       "   Id  MSSubClass MSZoning  LotFrontage  LotArea Street Alley LotShape  \\\n",
       "0   1          60       RL         65.0     8450   Pave   NaN      Reg   \n",
       "1   2          20       RL         80.0     9600   Pave   NaN      Reg   \n",
       "2   3          60       RL         68.0    11250   Pave   NaN      IR1   \n",
       "3   4          70       RL         60.0     9550   Pave   NaN      IR1   \n",
       "4   5          60       RL         84.0    14260   Pave   NaN      IR1   \n",
       "\n",
       "  LandContour Utilities  ... PoolArea PoolQC Fence MiscFeature MiscVal MoSold  \\\n",
       "0         Lvl    AllPub  ...        0    NaN   NaN         NaN       0      2   \n",
       "1         Lvl    AllPub  ...        0    NaN   NaN         NaN       0      5   \n",
       "2         Lvl    AllPub  ...        0    NaN   NaN         NaN       0      9   \n",
       "3         Lvl    AllPub  ...        0    NaN   NaN         NaN       0      2   \n",
       "4         Lvl    AllPub  ...        0    NaN   NaN         NaN       0     12   \n",
       "\n",
       "  YrSold  SaleType  SaleCondition  SalePrice  \n",
       "0   2008        WD         Normal     208500  \n",
       "1   2007        WD         Normal     181500  \n",
       "2   2008        WD         Normal     223500  \n",
       "3   2006        WD        Abnorml     140000  \n",
       "4   2008        WD         Normal     250000  \n",
       "\n",
       "[5 rows x 81 columns]"
      ]
     },
     "execution_count": 3,
     "metadata": {},
     "output_type": "execute_result"
    }
   ],
   "source": [
    "data = pd.read_csv(\"train.csv\")\n",
    "data.head()"
   ]
  },
  {
   "cell_type": "markdown",
   "id": "b2da042d-acdb-4943-85f3-63cf9570a2b2",
   "metadata": {},
   "source": [
    "### Preprocessing the data"
   ]
  },
  {
   "cell_type": "code",
   "execution_count": 4,
   "id": "17f52b29-1c25-48a7-9df9-3f1b3a04586d",
   "metadata": {
    "tags": []
   },
   "outputs": [],
   "source": [
    "X = data.loc[:, [\"GrLivArea\",\"FullBath\", \"BedroomAbvGr\"]]\n",
    "y = data.loc[:, 'SalePrice']\n",
    "\n",
    "X.fillna(X.mean(), inplace=True)\n",
    "y.fillna(y.mean(), inplace=True)"
   ]
  },
  {
   "cell_type": "markdown",
   "id": "31ca19fa-4850-49b0-b277-e9c1537bdc93",
   "metadata": {},
   "source": [
    "### Split the data"
   ]
  },
  {
   "cell_type": "code",
   "execution_count": 5,
   "id": "a82d84f8-bb52-4f46-b051-a47faa7ff0dc",
   "metadata": {
    "tags": []
   },
   "outputs": [],
   "source": [
    "X_train,X_test,y_train,y_test = train_test_split(X, y, test_size=0.2,random_state=42)"
   ]
  },
  {
   "cell_type": "markdown",
   "id": "6bed98f2-2c18-420c-9923-65b934983f3a",
   "metadata": {},
   "source": [
    "### Trainning and fitting the model"
   ]
  },
  {
   "cell_type": "code",
   "execution_count": 6,
   "id": "36e52ad7-fbd9-4fed-8ec1-c2264b4d70eb",
   "metadata": {
    "tags": []
   },
   "outputs": [
    {
     "data": {
      "text/html": [
       "<style>#sk-container-id-1 {color: black;}#sk-container-id-1 pre{padding: 0;}#sk-container-id-1 div.sk-toggleable {background-color: white;}#sk-container-id-1 label.sk-toggleable__label {cursor: pointer;display: block;width: 100%;margin-bottom: 0;padding: 0.3em;box-sizing: border-box;text-align: center;}#sk-container-id-1 label.sk-toggleable__label-arrow:before {content: \"▸\";float: left;margin-right: 0.25em;color: #696969;}#sk-container-id-1 label.sk-toggleable__label-arrow:hover:before {color: black;}#sk-container-id-1 div.sk-estimator:hover label.sk-toggleable__label-arrow:before {color: black;}#sk-container-id-1 div.sk-toggleable__content {max-height: 0;max-width: 0;overflow: hidden;text-align: left;background-color: #f0f8ff;}#sk-container-id-1 div.sk-toggleable__content pre {margin: 0.2em;color: black;border-radius: 0.25em;background-color: #f0f8ff;}#sk-container-id-1 input.sk-toggleable__control:checked~div.sk-toggleable__content {max-height: 200px;max-width: 100%;overflow: auto;}#sk-container-id-1 input.sk-toggleable__control:checked~label.sk-toggleable__label-arrow:before {content: \"▾\";}#sk-container-id-1 div.sk-estimator input.sk-toggleable__control:checked~label.sk-toggleable__label {background-color: #d4ebff;}#sk-container-id-1 div.sk-label input.sk-toggleable__control:checked~label.sk-toggleable__label {background-color: #d4ebff;}#sk-container-id-1 input.sk-hidden--visually {border: 0;clip: rect(1px 1px 1px 1px);clip: rect(1px, 1px, 1px, 1px);height: 1px;margin: -1px;overflow: hidden;padding: 0;position: absolute;width: 1px;}#sk-container-id-1 div.sk-estimator {font-family: monospace;background-color: #f0f8ff;border: 1px dotted black;border-radius: 0.25em;box-sizing: border-box;margin-bottom: 0.5em;}#sk-container-id-1 div.sk-estimator:hover {background-color: #d4ebff;}#sk-container-id-1 div.sk-parallel-item::after {content: \"\";width: 100%;border-bottom: 1px solid gray;flex-grow: 1;}#sk-container-id-1 div.sk-label:hover label.sk-toggleable__label {background-color: #d4ebff;}#sk-container-id-1 div.sk-serial::before {content: \"\";position: absolute;border-left: 1px solid gray;box-sizing: border-box;top: 0;bottom: 0;left: 50%;z-index: 0;}#sk-container-id-1 div.sk-serial {display: flex;flex-direction: column;align-items: center;background-color: white;padding-right: 0.2em;padding-left: 0.2em;position: relative;}#sk-container-id-1 div.sk-item {position: relative;z-index: 1;}#sk-container-id-1 div.sk-parallel {display: flex;align-items: stretch;justify-content: center;background-color: white;position: relative;}#sk-container-id-1 div.sk-item::before, #sk-container-id-1 div.sk-parallel-item::before {content: \"\";position: absolute;border-left: 1px solid gray;box-sizing: border-box;top: 0;bottom: 0;left: 50%;z-index: -1;}#sk-container-id-1 div.sk-parallel-item {display: flex;flex-direction: column;z-index: 1;position: relative;background-color: white;}#sk-container-id-1 div.sk-parallel-item:first-child::after {align-self: flex-end;width: 50%;}#sk-container-id-1 div.sk-parallel-item:last-child::after {align-self: flex-start;width: 50%;}#sk-container-id-1 div.sk-parallel-item:only-child::after {width: 0;}#sk-container-id-1 div.sk-dashed-wrapped {border: 1px dashed gray;margin: 0 0.4em 0.5em 0.4em;box-sizing: border-box;padding-bottom: 0.4em;background-color: white;}#sk-container-id-1 div.sk-label label {font-family: monospace;font-weight: bold;display: inline-block;line-height: 1.2em;}#sk-container-id-1 div.sk-label-container {text-align: center;}#sk-container-id-1 div.sk-container {/* jupyter's `normalize.less` sets `[hidden] { display: none; }` but bootstrap.min.css set `[hidden] { display: none !important; }` so we also need the `!important` here to be able to override the default hidden behavior on the sphinx rendered scikit-learn.org. See: https://github.com/scikit-learn/scikit-learn/issues/21755 */display: inline-block !important;position: relative;}#sk-container-id-1 div.sk-text-repr-fallback {display: none;}</style><div id=\"sk-container-id-1\" class=\"sk-top-container\"><div class=\"sk-text-repr-fallback\"><pre>LinearRegression()</pre><b>In a Jupyter environment, please rerun this cell to show the HTML representation or trust the notebook. <br />On GitHub, the HTML representation is unable to render, please try loading this page with nbviewer.org.</b></div><div class=\"sk-container\" hidden><div class=\"sk-item\"><div class=\"sk-estimator sk-toggleable\"><input class=\"sk-toggleable__control sk-hidden--visually\" id=\"sk-estimator-id-1\" type=\"checkbox\" checked><label for=\"sk-estimator-id-1\" class=\"sk-toggleable__label sk-toggleable__label-arrow\">LinearRegression</label><div class=\"sk-toggleable__content\"><pre>LinearRegression()</pre></div></div></div></div></div>"
      ],
      "text/plain": [
       "LinearRegression()"
      ]
     },
     "execution_count": 6,
     "metadata": {},
     "output_type": "execute_result"
    }
   ],
   "source": [
    "lr = LinearRegression()\n",
    "\n",
    "lr.fit(X_train,y_train)"
   ]
  },
  {
   "cell_type": "markdown",
   "id": "3158fe01-d4dc-49e1-99b2-3cd4f945d829",
   "metadata": {},
   "source": [
    "### Make Predictions"
   ]
  },
  {
   "cell_type": "code",
   "execution_count": 10,
   "id": "c8829a36-ae47-4f00-a019-1695dcd0e10b",
   "metadata": {
    "tags": []
   },
   "outputs": [
    {
     "data": {
      "text/plain": [
       "array([113410.67255298, 305081.87775899, 135904.78562983, 205424.67564124,\n",
       "       227502.68349004, 121157.48079629, 205577.98056584, 183787.20378269,\n",
       "       121157.48079629, 147219.22233196, 185971.75622995,  93229.5689926 ,\n",
       "       121965.26049018, 192005.28203666, 208129.35962356, 133824.25948958,\n",
       "       211250.14883393, 146931.57417313, 134240.36471763, 186179.80884397,\n",
       "       219884.33231595, 197726.72892233, 185867.72992294, 126334.3653847 ,\n",
       "       181186.54610738, 183707.60823788, 171720.15216927, 118844.47127982,\n",
       "       199183.09722051, 199623.63321076, 132551.51304323, 245162.72491993,\n",
       "       383364.40832164, 127998.78629689, 202511.9390449 , 120484.46142981,\n",
       "       200376.66521523, 206232.45533514, 241160.86372906, 120716.94480604,\n",
       "       124645.5137103 , 251820.40856871, 101135.56832553, 244746.61969188,\n",
       "       105088.56799199, 208912.70855526, 123837.7340164 , 101655.69986059,\n",
       "       271169.30167299, 160846.66855057, 105088.56799199, 221989.28921839,\n",
       "       137960.88100787, 360448.30385172, 143835.21572496, 212706.5171321 ,\n",
       "       216971.5957196 , 149458.52246864, 118507.96159658, 114995.49792036,\n",
       "       109714.58702494, 131927.35520116, 262926.79265682, 215643.68449065,\n",
       "       217075.62202662, 230158.50594796, 136528.9434719 , 240977.24187723,\n",
       "       103632.19969382, 210650.42175406, 165350.11667932, 128286.43445573,\n",
       "        96662.437124  , 167167.42542293, 304898.25590717, 163263.70437405,\n",
       "       281155.82714617, 283860.51112849, 121940.82972798, 110106.26149078,\n",
       "       131639.70704232, 141002.07467343, 131743.73334934, 121133.05003408,\n",
       "       147947.40648105, 165943.95759417, 234031.91006961, 180115.96611004,\n",
       "       143835.21572496, 183787.20378269, 191142.75465334, 174192.35277536,\n",
       "       113851.20854323, 289661.55355897, 189588.24621318, 169223.52080097,\n",
       "       193357.62402782, 183371.09855464, 214811.47403455, 250443.63581535,\n",
       "       204696.49149216, 216243.41157052, 263575.3812611 , 117804.20820969,\n",
       "       177931.41366278, 156061.458428  , 109041.56765846, 240193.89294554,\n",
       "       105296.62060602, 165374.9645347 , 138841.95298837, 140512.26006559,\n",
       "       110497.93595663, 133047.21381609, 219260.17447387, 112602.89285908,\n",
       "       122693.44463927,  93021.51637857, 203527.77135282, 201783.75489581,\n",
       "       135409.08485697, 143835.21572496, 198766.99199246, 167896.0266652 ,\n",
       "       179210.04627415,  99575.17372034, 240353.08403516, 126230.33907769,\n",
       "       116635.48807036, 178769.5102839 , 196894.51846624, 269945.41675105,\n",
       "       217387.70094765, 180874.88427953,  75539.21063549, 211042.0962199 ,\n",
       "       232673.68191343,  99887.25264138, 204384.41257112, 484661.60058938,\n",
       "       296319.23720776, 125502.1549286 , 212498.46451808, 181890.29949427,\n",
       "       112162.35686883,  95934.25297492, 216292.69018811, 181082.51980037,\n",
       "       108857.94580664, 118844.47127982, 151716.78429569, 142538.03851641,\n",
       "       297310.22166029, 215570.39220404, 114346.90931609, 192084.87758147,\n",
       "       183126.84284837, 172001.91416308,  91901.65776364, 121316.67188591,\n",
       "       160693.36362597, 162113.5288319 , 203552.20211502, 134399.55580725,\n",
       "       155461.73134813, 139606.75732289, 235176.19944675, 300088.6150224 ,\n",
       "       334031.50803562, 255644.95116596, 234552.04160468, 147372.11016338,\n",
       "       163997.77468816, 194189.83448392, 304433.28915472, 170863.51095097,\n",
       "       156997.69519111, 210938.06991289, 170441.5195579 , 195958.28170313,\n",
       "       163918.17914335, 137569.20654202, 101551.67355358, 146803.11710391,\n",
       "       239233.22542023, 210209.88576381, 208025.33331655, 215019.52664857,\n",
       "       201288.05412295, 115907.30392127, 170961.65109296, 140585.96944538,\n",
       "       165032.15159326, 118611.98790359, 221493.58844553, 271224.04936242,\n",
       "       185341.71222285, 139313.22299903, 213226.64866716, 142017.90698135,\n",
       "       218452.39477998, 182746.94071257, 142121.93328836, 279258.92285775,\n",
       "       171408.07324823, 134270.68164485, 242458.04093761, 118924.06682463,\n",
       "       194887.70170578,  95102.04251882, 239000.742044  , 135984.38117464,\n",
       "       129742.8027539 , 185347.59838787, 170753.59847894, 195230.09755404,\n",
       "       144796.30034346, 121316.67188591, 142954.14374446, 186051.35177476,\n",
       "        95310.09513284, 196710.89661441, 203656.22842203, 119964.32989475,\n",
       "       184827.46685281, 128702.53968378, 146307.41633105, 106367.20060336,\n",
       "       145426.34435055, 151508.73168167, 125710.20754262, 188468.38759824,\n",
       "       118844.47127982, 130158.90798195, 231535.27870132, 147531.301253  ,\n",
       "       184643.84500099, 132575.94380543, 246827.14583212, 154996.3475025 ,\n",
       "       103864.68307005, 288804.91234067, 213746.78020222, 368696.69903291,\n",
       "       200823.0873705 , 142434.0122094 , 151172.22199843, 177257.97720312,\n",
       "       112578.46209688, 111042.4982539 , 196870.08770403, 185451.62469489,\n",
       "       158870.16871734, 100847.92016669, 122877.06649109, 170184.18832629,\n",
       "       129638.77644689, 167767.1525028 , 199079.07091349, 249739.88242847,\n",
       "       237568.80450803, 127974.35553469,  95310.09513284, 229999.31485834,\n",
       "       211874.306676  , 206752.5868702 , 198063.23860557, 143835.21572496,\n",
       "       133512.18056854, 181082.51980037, 274938.67948764, 198063.23860557,\n",
       "       237360.75189401, 117987.83006152, 186308.26591319, 106544.93629017,\n",
       "       210105.85945679, 253405.2339361 , 208851.65760763, 164383.56298899,\n",
       "       217075.62202662, 121157.48079629, 196270.36062416, 111354.57717493,\n",
       "       211042.0962199 , 187220.0719141 , 223733.3056754 , 146619.49525209,\n",
       "       191485.1505016 , 183787.20378269, 132735.13489506,  92189.30592247])"
      ]
     },
     "execution_count": 10,
     "metadata": {},
     "output_type": "execute_result"
    }
   ],
   "source": [
    "y_pred = lr.predict(X_test)\n",
    "y_pred"
   ]
  },
  {
   "cell_type": "markdown",
   "id": "03ac435c-e962-42aa-8d42-4de4505fe244",
   "metadata": {},
   "source": [
    "### Evaluate the model "
   ]
  },
  {
   "cell_type": "code",
   "execution_count": 8,
   "id": "564f5e23-948c-4b16-964e-46815c2a204c",
   "metadata": {
    "tags": []
   },
   "outputs": [
    {
     "name": "stdout",
     "output_type": "stream",
     "text": [
      "Mean Squared Error: 2806426667.2478523\n",
      "R-squared: 0.6341189942328372\n"
     ]
    }
   ],
   "source": [
    "mse = mean_squared_error(y_test,y_pred)\n",
    "r2 = r2_score(y_test,y_pred)\n",
    "\n",
    "print(f'Mean Squared Error: {mse}')\n",
    "print(f'R-squared: {r2}')"
   ]
  },
  {
   "cell_type": "code",
   "execution_count": 9,
   "id": "bdd9f8a2-e73c-47d8-8b4b-2e7a321a9cd6",
   "metadata": {
    "tags": []
   },
   "outputs": [
    {
     "data": {
      "image/png": "[encoded data removed]",
      "text/plain": [
       "<Figure size 640x480 with 1 Axes>"
      ]
     },
     "metadata": {},
     "output_type": "display_data"
    }
   ],
   "source": [
    "plt.scatter(y_test, y_pred)\n",
    "plt.xlabel('Actual Prices')\n",
    "plt.ylabel('Predicted Prices')\n",
    "plt.title('Actual vs Predicted Prices')\n",
    "plt.show()\n"
   ]
  },
  {
   "cell_type": "code",
   "execution_count": null,
   "id": "2ba15df4-bb92-4b30-a5e6-422d2706fb3c",
   "metadata": {},
   "outputs": [],
   "source": []
  }
 ],
 "metadata": {
  "kernelspec": {
   "display_name": "Python 3 (ipykernel)",
   "language": "python",
   "name": "python3"
  },
  "language_info": {
   "codemirror_mode": {
    "name": "ipython",
    "version": 3
   },
   "file_extension": ".py",
   "mimetype": "text/x-python",
   "name": "python",
   "nbconvert_exporter": "python",
   "pygments_lexer": "ipython3",
   "version": "3.11.5"
  }
 },
 "nbformat": 4,
 "nbformat_minor": 5
}
